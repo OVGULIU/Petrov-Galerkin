{
 "cells": [
  {
   "cell_type": "code",
   "execution_count": 9,
   "metadata": {},
   "outputs": [],
   "source": [
    "from nutils import *\n",
    "import numpy, unittest\n",
    "\n",
    "import matplotlib\n",
    "import matplotlib.pyplot as plt\n",
    "from matplotlib import collections"
   ]
  },
  {
   "cell_type": "code",
   "execution_count": 10,
   "metadata": {},
   "outputs": [],
   "source": [
    "# initialize\n",
    "ns = function.Namespace()\n",
    "\n",
    "# setup\n",
    "nelems = 20\n",
    "degree = 1\n",
    "tol  = 1e-5\n",
    "h = 1.0 / nelems"
   ]
  },
  {
   "cell_type": "code",
   "execution_count": 11,
   "metadata": {},
   "outputs": [
    {
     "name": "stdout",
     "output_type": "stream",
     "text": [
      "The Peclet number is:  100\n",
      "The stabilization parameter is:  0.6135673098126083\n"
     ]
    }
   ],
   "source": [
    "# prepare unit domain\n",
    "domain, geom = mesh.rectilinear([numpy.linspace(0, 1.0, nelems+1)])\n",
    "\n",
    "# geometry and basis\n",
    "ns = function.Namespace()\n",
    "ns.x = geom\n",
    "ns.basis = domain.basis('discont', degree=degree)\n",
    "ns.h = h\n",
    "\n",
    "# solution vector\n",
    "ns.u = 'basis_n ?lhs_n'\n",
    "\n",
    "# material parameters\n",
    "ns.Pe = 100\n",
    "\n",
    "# supg stabilization parameter\n",
    "ns.pe = '0.5 Pe h'\n",
    "ns.xi = '(cosh(pe) / sinh(pe)) - (1 / pe)'\n",
    "ns.tau = '(h / (2 Pe)) xi'\n",
    "\n",
    "#  dg penaly parameters\n",
    "ns.C1 = 1       # penalty enforcing C^0 continuity\n",
    "ns.C2 = 1.0       # penalty enforcing C^0 continuity\n",
    "\n",
    "# analytical solution and forcing vector\n",
    "ns.pi  = numpy.pi\n",
    "\n",
    "ns.g   = '(1 / (1 - exp(Pe))) (exp(Pe x_0) - 1) + x_0'\n",
    "ns.dg  = '(Pe / (1 - exp(Pe))) exp(Pe x_0) + 1'\n",
    "ns.ddg  = '((Pe)^2 / (1 - exp(Pe))) exp(Pe x_0)'\n",
    "\n",
    "# ns.g   = '1 + ((exp(Pe x_0) - 1) / ( 1 - exp(Pe)))'\n",
    "# ns.dg  = '-(  Pe    exp(Pe x_0 )) / (exp(Pe) - 1)'\n",
    "# ns.ddg = '-( (Pe)^2 exp(Pe x_0 )) / (exp(Pe) - 1)'\n",
    "\n",
    "# ns.z = 1.5\n",
    "# ns.g  = 'sin( z pi x_0 )'\n",
    "# ns.dg = '(z pi) cos( z pi x_0 )'\n",
    "# ns.ddg = '-(z pi)^2 sin( z pi x_0 )'\n",
    "\n",
    "ns.f   = '- ddg + Pe dg'\n",
    "\n",
    "# print the Peclet number\n",
    "print('The Peclet number is: ',ns.Pe.eval()[0])\n",
    "print('The stabilization parameter is: ',ns.xi.eval()[0])"
   ]
  },
  {
   "cell_type": "markdown",
   "metadata": {},
   "source": [
    "# Prepare Residual"
   ]
  },
  {
   "cell_type": "code",
   "execution_count": 12,
   "metadata": {},
   "outputs": [],
   "source": [
    "res = domain.integral('basis_n,0 u_,0 - basis_n,0 Pe u - basis_n f' @ ns, geometry=ns.x, degree=degree*2)"
   ]
  },
  {
   "cell_type": "code",
   "execution_count": 13,
   "metadata": {},
   "outputs": [],
   "source": [
    "# res += domain.integral('tau Pe basis_n,0 ( - (u_,0)_,0 + Pe u_,0 - f )' @ ns, geometry=ns.x, degree=degree*2)"
   ]
  },
  {
   "cell_type": "markdown",
   "metadata": {},
   "source": [
    "# Diffusion"
   ]
  },
  {
   "cell_type": "code",
   "execution_count": 14,
   "metadata": {},
   "outputs": [],
   "source": [
    "# construct residual and inertia vector\n",
    "res -= domain.interfaces.integral('-[basis_n] n_0 {u_,0} - {basis_n,0} n_0 [u]' @ ns, geometry=ns.x, degree=degree*2)\n",
    "\n",
    "# C0 continuity residual\n",
    "res -= domain.interfaces.integral('(1 + 0.5 Pe) C1 [basis_n] n_0 [u]' @ ns, geometry=ns.x, degree=degree*2)\n",
    "\n",
    "# boundary\n",
    "res += domain.boundary.integral('-basis_n u_,0 n_0' @ ns, geometry=ns.x, degree=degree*2)\n",
    "res += domain.boundary.integral(' (1 + 0.5 Pe) C1 basis_n,0 (g - u) n_0' @ ns, geometry=ns.x, degree=degree*2)"
   ]
  },
  {
   "cell_type": "markdown",
   "metadata": {},
   "source": [
    "# Advection"
   ]
  },
  {
   "cell_type": "code",
   "execution_count": 15,
   "metadata": {},
   "outputs": [],
   "source": [
    "# interface C^0 continuity \n",
    "res += domain.interfaces.integral('-[basis_n] n_0 Pe ({u} n_0 - .5 xi [u] n_0)' @ ns, geometry=ns.x, degree=degree*2)\n",
    "\n",
    "# weak boundary imposition\n",
    "res += domain.boundary.integral('basis_n Pe (0.5 (g + u) n_0 - .5 xi (g - u) n_0)' @ ns, geometry=ns.x, degree=degree*2)"
   ]
  },
  {
   "cell_type": "code",
   "execution_count": 16,
   "metadata": {},
   "outputs": [
    {
     "name": "stdout",
     "output_type": "stream",
     "text": [
      "solve > solver returned with residual 5e-14\n"
     ]
    },
    {
     "data": {
      "text/plain": [
       "[<matplotlib.lines.Line2D at 0x10e2d6fd0>]"
      ]
     },
     "execution_count": 16,
     "metadata": {},
     "output_type": "execute_result"
    },
    {
     "data": {
      "image/png": "[encoded data removed]",
      "text/plain": [
       "<matplotlib.figure.Figure at 0x10b48f898>"
      ]
     },
     "metadata": {},
     "output_type": "display_data"
    }
   ],
   "source": [
    "# find lhs such that res == 0 and substitute this lhs in the namespace\n",
    "lhs = solver.solve_linear('lhs', res)\n",
    "ns = ns(lhs=lhs)\n",
    "\n",
    "# plot solution\n",
    "bezier = domain.sample('bezier', 9)\n",
    "x, u = bezier.eval([ns.x, ns.u])\n",
    "x, g = bezier.eval([ns.x, ns.g])\n",
    "plt.plot(x, u)\n",
    "plt.plot(x, g,'r')\n",
    "# plt.ylim(-1.0,1.1)"
   ]
  },
  {
   "cell_type": "code",
   "execution_count": null,
   "metadata": {},
   "outputs": [],
   "source": []
  },
  {
   "cell_type": "code",
   "execution_count": null,
   "metadata": {},
   "outputs": [],
   "source": []
  }
 ],
 "metadata": {
  "kernelspec": {
   "display_name": "Python 3",
   "language": "python",
   "name": "python3"
  },
  "language_info": {
   "codemirror_mode": {
    "name": "ipython",
    "version": 3
   },
   "file_extension": ".py",
   "mimetype": "text/x-python",
   "name": "python",
   "nbconvert_exporter": "python",
   "pygments_lexer": "ipython3",
   "version": "3.6.4"
  }
 },
 "nbformat": 4,
 "nbformat_minor": 2
}
