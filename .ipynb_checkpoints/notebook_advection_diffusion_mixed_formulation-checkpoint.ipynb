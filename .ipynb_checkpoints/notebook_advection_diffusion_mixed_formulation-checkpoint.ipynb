{
 "cells": [
  {
   "cell_type": "code",
   "execution_count": 28,
   "metadata": {},
   "outputs": [],
   "source": [
    "from nutils import *\n",
    "import numpy, unittest\n",
    "\n",
    "import matplotlib\n",
    "import matplotlib.pyplot as plt\n",
    "from matplotlib import collections"
   ]
  },
  {
   "cell_type": "code",
   "execution_count": 198,
   "metadata": {},
   "outputs": [],
   "source": [
    "nelems = 1\n",
    "degree = 1\n",
    "tol    = 1e-5\n",
    "ndims  = 1\n",
    "h = 1.0 / nelems"
   ]
  },
  {
   "cell_type": "code",
   "execution_count": 199,
   "metadata": {},
   "outputs": [],
   "source": [
    "domain, geom = mesh.rectilinear([numpy.linspace(0,1,nelems+1)]*ndims)"
   ]
  },
  {
   "cell_type": "code",
   "execution_count": 203,
   "metadata": {},
   "outputs": [
    {
     "name": "stdout",
     "output_type": "stream",
     "text": [
      "The Peclet number is:  200\n",
      "The stabilization parameter is:  0.995\n"
     ]
    }
   ],
   "source": [
    "# prepare residual\n",
    "ns = function.Namespace()\n",
    "ns.pi = numpy.pi\n",
    "ns.x = geom\n",
    "ns.h = h\n",
    "\n",
    "# construct bases\n",
    "ns.alpha, ns.beta = function.chain([\n",
    "    domain.basis( 'std', degree=degree+1),\n",
    "    domain.basis( 'discont', degree=degree),\n",
    "])\n",
    "\n",
    "# solution variables\n",
    "ns.phi = 'alpha_n ?lhs_n'\n",
    "ns.u   = 'beta_n ?lhs_n'\n",
    "\n",
    "# Peclet number\n",
    "ns.Pe = 200\n",
    "\n",
    "# supg stabilization parameter\n",
    "ns.xi = '(cosh(Pe) / sinh(Pe)) - (1 / Pe)'\n",
    "ns.tau = '0.5 (1 / Pe) xi'\n",
    "\n",
    "\n",
    "# analytical solution and forcing vector\n",
    "ns.pi  = numpy.pi\n",
    "\n",
    "ns.g   = '(1 / (1 - exp(Pe))) (exp(Pe x_0) - 1) + x_0'\n",
    "ns.dg  = '(Pe / (1 - exp(Pe))) exp(Pe x_0) + 1'\n",
    "ns.ddg  = '((Pe)^2 / (1 - exp(Pe))) exp(Pe x_0)'\n",
    "\n",
    "# ns.g   = '1 + ((exp(Pe x_0) - 1) / ( 1 - exp(Pe)))'\n",
    "# ns.dg  = '-(  Pe    exp(Pe x_0 )) / (exp(Pe) - 1)'\n",
    "# ns.ddg = '-( (Pe)^2 exp(Pe x_0 )) / (exp(Pe) - 1)'\n",
    "\n",
    "# ns.z = 1.5\n",
    "# ns.g  = 'cos( z pi x_0 )'\n",
    "# ns.dg = '-(z pi) sin( z pi x_0 )'\n",
    "# ns.ddg = '-(z pi)^2 cos( z pi x_0 )'\n",
    "\n",
    "ns.f   = ' - ddg + Pe dg'\n",
    "\n",
    "# print the Peclet number\n",
    "print('The Peclet number is: ',ns.Pe.eval()[0])\n",
    "print('The stabilization parameter is: ',ns.xi.eval()[0])"
   ]
  },
  {
   "cell_type": "code",
   "execution_count": 204,
   "metadata": {},
   "outputs": [],
   "source": [
    "# construct residual and inertia vector\n",
    "res = domain.integral('- alpha_m,0 u - alpha_m phi' @ ns, geometry=ns.x, degree=degree*2)\n",
    "\n",
    "# construct residual and inertia vector\n",
    "res += domain.integral('beta_n ( - phi_,0 + Pe u_,0 - f )' @ ns, geometry=ns.x, degree=degree*2)\n",
    "\n",
    "# boundary integral\n",
    "res += domain.boundary.integral('alpha_m g n_0' @ ns, geometry=ns.x, degree=degree*2)\n",
    "\n",
    "# supg term\n",
    "# res += domain.integral('alpha_m ( - phi + u_,0 )' @ ns, geometry=ns.x, degree=degree*2)\n",
    "res += domain.integral('tau Pe beta_n,0 ( - phi_,0 + Pe u_,0 - f )' @ ns, geometry=ns.x, degree=degree*2)"
   ]
  },
  {
   "cell_type": "code",
   "execution_count": 205,
   "metadata": {
    "scrolled": false
   },
   "outputs": [
    {
     "name": "stdout",
     "output_type": "stream",
     "text": [
      "solve > solver returned with residual 6e-14\n",
      "L2 error: 1.62e+01\n"
     ]
    },
    {
     "data": {
      "image/png": "[encoded data removed]",
      "text/plain": [
       "<matplotlib.figure.Figure at 0x151992efd0>"
      ]
     },
     "metadata": {},
     "output_type": "display_data"
    },
    {
     "data": {
      "image/png": "[encoded data removed]",
      "text/plain": [
       "<matplotlib.figure.Figure at 0x15199ade10>"
      ]
     },
     "metadata": {},
     "output_type": "display_data"
    }
   ],
   "source": [
    "# find lhs such that res == 0 and substitute this lhs in the namespace\n",
    "lhs = solver.solve_linear('lhs', res)\n",
    "ns = ns(lhs=lhs)\n",
    "\n",
    "# plot solution\n",
    "plt.figure()\n",
    "bezier = domain.sample('bezier', 9)\n",
    "x, u = bezier.eval([ns.x, ns.u])\n",
    "x, g = bezier.eval([ns.x, ns.g])\n",
    "plt.plot(x, u)\n",
    "plt.plot(x, g, 'r')\n",
    "\n",
    "# plot solution\n",
    "plt.figure()\n",
    "bezier = domain.sample('bezier', 9)\n",
    "x, phi = bezier.eval([ns.x, ns.phi])\n",
    "x, dg = bezier.eval([ns.x, ns.dg])\n",
    "plt.plot(x, phi, 'g')\n",
    "plt.plot(x, dg, 'r')\n",
    "\n",
    "# evaluate error against exact solution fx fy\n",
    "err = domain.integrate('(u - g)^2' @ ns, geometry=ns.x, degree=degree*2)**.5\n",
    "log.user('L2 error: {:.2e}'.format(err))"
   ]
  },
  {
   "cell_type": "code",
   "execution_count": null,
   "metadata": {},
   "outputs": [],
   "source": []
  },
  {
   "cell_type": "code",
   "execution_count": null,
   "metadata": {},
   "outputs": [],
   "source": []
  }
 ],
 "metadata": {
  "kernelspec": {
   "display_name": "Python 3",
   "language": "python",
   "name": "python3"
  },
  "language_info": {
   "codemirror_mode": {
    "name": "ipython",
    "version": 3
   },
   "file_extension": ".py",
   "mimetype": "text/x-python",
   "name": "python",
   "nbconvert_exporter": "python",
   "pygments_lexer": "ipython3",
   "version": "3.6.4"
  }
 },
 "nbformat": 4,
 "nbformat_minor": 2
}
