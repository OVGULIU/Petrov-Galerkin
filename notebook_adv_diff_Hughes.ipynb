{
 "cells": [
  {
   "cell_type": "code",
   "execution_count": 1,
   "metadata": {},
   "outputs": [],
   "source": [
    "from nutils import *\n",
    "import numpy, unittest\n",
    "\n",
    "import matplotlib\n",
    "import matplotlib.pyplot as plt\n",
    "from matplotlib import collections"
   ]
  },
  {
   "cell_type": "code",
   "execution_count": 2,
   "metadata": {},
   "outputs": [],
   "source": [
    "nelems = 2\n",
    "degree = 1\n",
    "tol  = 1e-5\n",
    "ndims = 1\n",
    "extent = 1\n",
    "v = 0    # convective velocity\n",
    "k = 1      # diffusivity"
   ]
  },
  {
   "cell_type": "code",
   "execution_count": 3,
   "metadata": {},
   "outputs": [],
   "source": [
    "domain, geom = mesh.rectilinear([numpy.linspace(0,extent,nelems+1)]*ndims)"
   ]
  },
  {
   "cell_type": "code",
   "execution_count": 4,
   "metadata": {},
   "outputs": [],
   "source": [
    "# prepare residual\n",
    "ns = function.Namespace()\n",
    "ns.pi = numpy.pi\n",
    "ns.x = geom\n",
    "ns.basis = domain.basis('lagrange', degree=degree)\n",
    "ns.u = 'basis_n ?lhs_n'\n",
    "ns.k = k\n",
    "ns.v = v\n",
    "h = extent / nelems\n",
    "# Put element length in namespace\n",
    "ns.h = h\n",
    "\n",
    "# Tuning parameters\n",
    "ns.beta = 1\n",
    "ns.gamma = 10\n",
    "\n",
    "# DG Stabilization parameters (all the same for an equidistant mesh)\n",
    "ns.tauZero = ' gamma k / h'\n",
    "ns.tauN    = ' gamma k / h'\n",
    "ns.tauA    = ' gamma k / h'\n",
    "\n",
    "# SUPG stabilization parameter\n",
    "if(numpy.exp(v/k) == float('inf')):\n",
    "    ns.tau = ' h / (2 v)'\n",
    "else:\n",
    "    ns.peclet = ' 0.5 v h / k'\n",
    "    ns.tau = ' ((cosh(peclet) / sinh(peclet)) - (1 / peclet)) h / (2 v) '\n",
    "    \n",
    "# Advection Upwinding coefficient\n",
    "ns.C = ' v '   \n",
    "ns.ext = extent\n",
    "\n",
    "# BCs and analytical solution\n",
    "#ns.z = 2\n",
    "#ns.gl  = 'cos( z pi x_0 )'\n",
    "#ns.gr  = 'cos( z pi x_0 )'\n",
    "#ns.dgl = '-(z pi) sin( z pi x_0 )'\n",
    "#ns.dgr = '-(z pi) sin( z pi x_0 )'\n",
    "#ns.ddg = '-(z pi)^2 cos( z pi x_0 )'\n",
    "\n",
    "#ns.f   = ' - ddg'\n",
    "\n",
    "# u(x) = [(gr-gl)/(exp(v/k) - 1)] [exp((v/k) x) - 1] + gl\n",
    "# u'(x)= (v/k)[(gr-gl)/(exp(v/k) - 1] [exp((v/k) x)]\n",
    "#   with u(0) = gl, u(extent) = gr \n",
    "ns.f = 0\n",
    "ns.gl = 1\n",
    "ns.gr = 0\n",
    "# Catch potential overflow exceptions\n",
    "if(numpy.exp(v/k) == float('inf')):\n",
    "    # exp(v/k) -> infinity (triggers overflow exception)\n",
    "    # Find expression for ns.g\n",
    "    pass\n",
    "else:\n",
    "    ns.analytical = '( (gr - gl) / (exp(v / k) - 1) ) (exp( (v / k) x_0) - 1) + gl'"
   ]
  },
  {
   "cell_type": "code",
   "execution_count": 5,
   "metadata": {},
   "outputs": [],
   "source": [
    "# construct residual\n",
    "# Element integrals\n",
    "# Diffusive part and RHS\n",
    "res = domain.integral('k basis_n,0 u_,0 - basis_n f' @ ns, geometry=ns.x, degree=degree*2)\n",
    "# Advective part\n",
    "res += domain.integral('-v basis_n,0 u' @ ns, geometry=ns.x, degree=5)\n",
    "# SUPG stabilized part\n",
    "res += domain.integral(' tau v basis_n,0 (v u_,0 - k (u_,0)_,0 - f )' @ ns, geometry=ns.x, degree=5)\n",
    "\n",
    "# Interface integrals\n",
    "# Diffusive part\n",
    "#    part one                      |\n",
    "#                                  v  minus might be necessary here because of jump definitions (likewise on second +)\n",
    "res += domain.interfaces.integral(' [basis_n] n_0 k {u_,0} + beta k {basis_n,0} [u] n_0' @ ns, geometry=ns.x, degree=degree*2)\n",
    "#    part two (stabilized)\n",
    "res += domain.interfaces.integral(' tauA [basis_n] n_0 [u] n_0' @ ns, geometry=ns.x, degree=degree*2)\n",
    "# Advective part\n",
    "res += domain.interfaces.integral('- v [basis_n] n_0 ({u} - .5 C [u] n_0)' @ ns, geometry=ns.x, degree=5)\n",
    "\n",
    "# Boundary integrals LHS\n",
    "#    part one\n",
    "res += domain.boundary.integral('- k basis_n u_,0 + beta k basis_n,0 u ' @ ns, geometry=ns.x, degree=degree*2)\n",
    "#    part two (stabilized)\n",
    "res += domain.boundary['left'].integral(' tauZero basis_n u ' @ ns, geometry=ns.x, degree=degree*2)\n",
    "res += domain.boundary['right'].integral(' tauN basis_n u ' @ ns, geometry=ns.x, degree=degree*2)\n",
    "\n",
    "# Boundary integrals RHS (weakly imposed boundary conditions) (including stabilization)\n",
    "# Diffusive part\n",
    "res -= domain.boundary['left'].integral(' ( beta k basis_n,0 + tauZero basis_n) gl ' @ ns, geometry=ns.x, degree=degree*2)\n",
    "res -= domain.boundary['right'].integral(' ( beta k basis_n,0 + tauN basis_n) gr ' @ ns, geometry=ns.x, degree=degree*2)\n",
    "# Advective part\n",
    "res += domain.boundary['left'].integral('v basis_n n_0 (0.5 (gl + u) - .5 C (gl - u) n_0)' @ ns, geometry=ns.x, degree=degree*2)\n",
    "res += domain.boundary['right'].integral('v basis_n n_0 (0.5 (gr + u) - .5 C (gr - u) n_0)' @ ns, geometry=ns.x, degree=degree*2)"
   ]
  },
  {
   "cell_type": "code",
   "execution_count": 6,
   "metadata": {
    "scrolled": true
   },
   "outputs": [
    {
     "name": "stdout",
     "output_type": "stream",
     "text": [
      "Here comes the Jacobian\n",
      "(3, 3)\n",
      "[[  2.20000000e+01  -4.00000000e+00   0.00000000e+00]\n",
      " [  4.44089210e-16   4.00000000e+00  -4.00000000e+00]\n",
      " [  0.00000000e+00   4.44089210e-16   2.20000000e+01]]\n",
      "[-18.  -2.   0.]\n",
      "solve > solver returned with residual 0e+00\n"
     ]
    }
   ],
   "source": [
    "# find lhs such that res == 0 and substitute this lhs in the namespace\n",
    "# lhs = solver.solve_linear('lhs', res, constrain=cons)\n",
    "lhs = solver.solve_linear('lhs', res)\n",
    "ns = ns(lhs=lhs)"
   ]
  },
  {
   "cell_type": "code",
   "execution_count": 7,
   "metadata": {
    "scrolled": false
   },
   "outputs": [
    {
     "data": {
      "text/plain": [
       "[<matplotlib.lines.Line2D at 0x7f711a49dd30>]"
      ]
     },
     "execution_count": 7,
     "metadata": {},
     "output_type": "execute_result"
    },
    {
     "data": {
      "text/plain": [
       "<Figure size 432x288 with 0 Axes>"
      ]
     },
     "metadata": {},
     "output_type": "display_data"
    },
    {
     "data": {
      "image/png": "[encoded data removed]",
      "text/plain": [
       "<Figure size 1440x1280 with 1 Axes>"
      ]
     },
     "metadata": {},
     "output_type": "display_data"
    }
   ],
   "source": [
    "# plot solution\n",
    "plt.figure()\n",
    "bezier = domain.sample('bezier', 9)\n",
    "x, u = bezier.eval([ns.x, ns.u])\n",
    "#x, analytical = bezier.eval([ns.x, ns.analytical])\n",
    "fig=plt.figure(figsize=(18, 16), dpi= 80, facecolor='w', edgecolor='k')\n",
    "plt.plot(x, u)\n",
    "#plt.plot(x, analytical, 'r')\n",
    "# plt.ylim(-2,2)"
   ]
  },
  {
   "cell_type": "code",
   "execution_count": null,
   "metadata": {},
   "outputs": [],
   "source": []
  },
  {
   "cell_type": "code",
   "execution_count": null,
   "metadata": {},
   "outputs": [],
   "source": []
  },
  {
   "cell_type": "code",
   "execution_count": null,
   "metadata": {},
   "outputs": [],
   "source": []
  },
  {
   "cell_type": "code",
   "execution_count": null,
   "metadata": {},
   "outputs": [],
   "source": []
  },
  {
   "cell_type": "code",
   "execution_count": null,
   "metadata": {},
   "outputs": [],
   "source": []
  },
  {
   "cell_type": "code",
   "execution_count": null,
   "metadata": {},
   "outputs": [],
   "source": []
  },
  {
   "cell_type": "code",
   "execution_count": null,
   "metadata": {},
   "outputs": [],
   "source": []
  },
  {
   "cell_type": "code",
   "execution_count": null,
   "metadata": {},
   "outputs": [],
   "source": []
  },
  {
   "cell_type": "code",
   "execution_count": null,
   "metadata": {},
   "outputs": [],
   "source": []
  },
  {
   "cell_type": "code",
   "execution_count": null,
   "metadata": {},
   "outputs": [],
   "source": []
  },
  {
   "cell_type": "code",
   "execution_count": null,
   "metadata": {},
   "outputs": [],
   "source": []
  },
  {
   "cell_type": "code",
   "execution_count": null,
   "metadata": {},
   "outputs": [],
   "source": []
  },
  {
   "cell_type": "code",
   "execution_count": null,
   "metadata": {},
   "outputs": [],
   "source": []
  }
 ],
 "metadata": {
  "kernelspec": {
   "display_name": "Python 3",
   "language": "python",
   "name": "python3"
  },
  "language_info": {
   "codemirror_mode": {
    "name": "ipython",
    "version": 3
   },
   "file_extension": ".py",
   "mimetype": "text/x-python",
   "name": "python",
   "nbconvert_exporter": "python",
   "pygments_lexer": "ipython3",
   "version": "3.6.6"
  }
 },
 "nbformat": 4,
 "nbformat_minor": 2
}
