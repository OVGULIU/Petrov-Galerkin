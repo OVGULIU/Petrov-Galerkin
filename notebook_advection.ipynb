{
 "cells": [
  {
   "cell_type": "code",
   "execution_count": 1,
   "metadata": {},
   "outputs": [],
   "source": [
    "from nutils import *\n",
    "import numpy, unittest\n",
    "\n",
    "import matplotlib\n",
    "import matplotlib.pyplot as plt\n",
    "from matplotlib import collections"
   ]
  },
  {
   "cell_type": "code",
   "execution_count": 2,
   "metadata": {},
   "outputs": [],
   "source": [
    "nelems = 5\n",
    "degree = 1\n",
    "tol  = 1e-5\n",
    "ndims = 1"
   ]
  },
  {
   "cell_type": "code",
   "execution_count": 3,
   "metadata": {},
   "outputs": [],
   "source": [
    "domain, geom = mesh.rectilinear([numpy.linspace(0,1,nelems+1)]*ndims)"
   ]
  },
  {
   "cell_type": "code",
   "execution_count": 4,
   "metadata": {},
   "outputs": [],
   "source": [
    "# prepare residual\n",
    "ns = function.Namespace()\n",
    "ns.x = geom\n",
    "ns.basis = domain.basis('discont', degree=degree)\n",
    "ns.u = 'basis_n ?lhs_n'\n",
    "ns.C = 2\n",
    "ns.V = 10.0\n",
    "ns.f = '- 6.28 sin( 6.28 x_0 )'"
   ]
  },
  {
   "cell_type": "code",
   "execution_count": 5,
   "metadata": {},
   "outputs": [],
   "source": [
    "# construct residual and inertia vector\n",
    "res = domain.integral('-basis_n,0 u - basis_n f' @ ns, geometry=ns.x, degree=5)\n",
    "res += domain.interfaces.integral('-[basis_n] n_0 ({u} - .5 C [u] n_0)' @ ns, geometry=ns.x, degree=5)\n",
    "res += domain.boundary.integral('basis_n n_0 (0.5 (1 + u) - .5 C (1 - u) n_0)' @ ns, geometry=ns.x, degree=degree*2)"
   ]
  },
  {
   "cell_type": "code",
   "execution_count": 6,
   "metadata": {
    "scrolled": false
   },
   "outputs": [
    {
     "name": "stdout",
     "output_type": "stream",
     "text": [
      "solve > solver returned with residual 8e-16\n"
     ]
    },
    {
     "data": {
      "text/plain": [
       "(-2, 2)"
      ]
     },
     "execution_count": 6,
     "metadata": {},
     "output_type": "execute_result"
    },
    {
     "data": {
      "image/png": "[encoded data removed]",
      "text/plain": [
       "<matplotlib.figure.Figure at 0x11941cd68>"
      ]
     },
     "metadata": {},
     "output_type": "display_data"
    }
   ],
   "source": [
    "# find lhs such that res == 0 and substitute this lhs in the namespace\n",
    "lhs = solver.solve_linear('lhs', res)\n",
    "ns = ns(lhs=lhs)\n",
    "\n",
    "# plot solution\n",
    "bezier = domain.sample('bezier', 9)\n",
    "x, u = bezier.eval([ns.x, ns.u])\n",
    "plt.plot(x, u)\n",
    "plt.ylim(-2,2)"
   ]
  },
  {
   "cell_type": "code",
   "execution_count": null,
   "metadata": {},
   "outputs": [],
   "source": []
  },
  {
   "cell_type": "code",
   "execution_count": null,
   "metadata": {},
   "outputs": [],
   "source": []
  },
  {
   "cell_type": "code",
   "execution_count": null,
   "metadata": {},
   "outputs": [],
   "source": []
  }
 ],
 "metadata": {
  "kernelspec": {
   "display_name": "Python 3",
   "language": "python",
   "name": "python3"
  },
  "language_info": {
   "codemirror_mode": {
    "name": "ipython",
    "version": 3
   },
   "file_extension": ".py",
   "mimetype": "text/x-python",
   "name": "python",
   "nbconvert_exporter": "python",
   "pygments_lexer": "ipython3",
   "version": "3.6.4"
  }
 },
 "nbformat": 4,
 "nbformat_minor": 2
}
