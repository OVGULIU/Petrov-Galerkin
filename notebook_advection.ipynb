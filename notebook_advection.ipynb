{
 "cells": [
  {
   "cell_type": "code",
   "execution_count": 7,
   "metadata": {},
   "outputs": [],
   "source": [
    "from nutils import *\n",
    "import numpy, unittest\n",
    "\n",
    "import matplotlib\n",
    "import matplotlib.pyplot as plt\n",
    "from matplotlib import collections"
   ]
  },
  {
   "cell_type": "code",
   "execution_count": 14,
   "metadata": {},
   "outputs": [],
   "source": [
    "nelems = 10\n",
    "degree = 1\n",
    "tol  = 1e-5\n",
    "ndims = 1\n",
    "L = 1.0"
   ]
  },
  {
   "cell_type": "code",
   "execution_count": 15,
   "metadata": {},
   "outputs": [],
   "source": [
    "domain, geom = mesh.rectilinear([numpy.linspace(0,1,nelems+1)]*ndims)"
   ]
  },
  {
   "cell_type": "code",
   "execution_count": 16,
   "metadata": {},
   "outputs": [],
   "source": [
    "# prepare unit domain\n",
    "domain, geom = mesh.rectilinear([numpy.linspace(0, L, nelems+1)])\n",
    "\n",
    "# geometry and basis\n",
    "ns = function.Namespace()\n",
    "ns.x = geom\n",
    "ns.basis = domain.basis('discont', degree=degree)\n",
    "\n",
    "# solution vector\n",
    "ns.u = 'basis_n ?lhs_n'\n",
    "\n",
    "# material parameters\n",
    "ns.V = 2           # advective velocity\n",
    "\n",
    "#  dg penaly parameters\n",
    "ns.C = 1.0       # penalty enforcing C^0 continuity\n",
    "\n",
    "# analytical solution and forcing vector\n",
    "ns.pi  = numpy.pi\n",
    "ns.g  = 'cos( 2 pi x_0 )'\n",
    "ns.dg = '-(2 pi) sin( 2 pi x_0 )'\n",
    "ns.ddg = '-(2 pi)^2 cos( 2 pi x_0 )'\n",
    "\n",
    "ns.f   = 'V dg'"
   ]
  },
  {
   "cell_type": "code",
   "execution_count": 17,
   "metadata": {},
   "outputs": [],
   "source": [
    "# construct residual and inertia vector\n",
    "res = domain.integral('-basis_n,0 V u - basis_n f' @ ns, geometry=ns.x, degree=degree*2)\n",
    "\n",
    "# interface C^0 continuity \n",
    "res += domain.interfaces.integral('-[basis_n] n_0 V ({u} - .5 C [u] n_0)' @ ns, geometry=ns.x, degree=degree*2)\n",
    "\n",
    "# weak boundary imposition\n",
    "res += domain.boundary.integral('basis_n n_0 V (0.5 (g + u) - .5 C (g - u) n_0)' @ ns, geometry=ns.x, degree=degree*2)"
   ]
  },
  {
   "cell_type": "code",
   "execution_count": 18,
   "metadata": {
    "scrolled": false
   },
   "outputs": [
    {
     "name": "stdout",
     "output_type": "stream",
     "text": [
      "solve > solver returned with residual 3e-16\n"
     ]
    },
    {
     "data": {
      "text/plain": [
       "(-2, 2)"
      ]
     },
     "execution_count": 18,
     "metadata": {},
     "output_type": "execute_result"
    },
    {
     "data": {
      "image/png": "[encoded data removed]",
      "text/plain": [
       "<matplotlib.figure.Figure at 0x1121601d0>"
      ]
     },
     "metadata": {},
     "output_type": "display_data"
    }
   ],
   "source": [
    "# find lhs such that res == 0 and substitute this lhs in the namespace\n",
    "lhs = solver.solve_linear('lhs', res)\n",
    "ns = ns(lhs=lhs)\n",
    "\n",
    "# plot solution\n",
    "bezier = domain.sample('bezier', 9)\n",
    "x, u = bezier.eval([ns.x, ns.u])\n",
    "x, g = bezier.eval([ns.x, ns.g])\n",
    "plt.plot(x, u)\n",
    "plt.plot(x, g,'r')\n",
    "plt.ylim(-2,2)"
   ]
  },
  {
   "cell_type": "code",
   "execution_count": null,
   "metadata": {},
   "outputs": [],
   "source": []
  },
  {
   "cell_type": "code",
   "execution_count": null,
   "metadata": {},
   "outputs": [],
   "source": []
  },
  {
   "cell_type": "code",
   "execution_count": null,
   "metadata": {},
   "outputs": [],
   "source": []
  }
 ],
 "metadata": {
  "kernelspec": {
   "display_name": "Python 3",
   "language": "python",
   "name": "python3"
  },
  "language_info": {
   "codemirror_mode": {
    "name": "ipython",
    "version": 3
   },
   "file_extension": ".py",
   "mimetype": "text/x-python",
   "name": "python",
   "nbconvert_exporter": "python",
   "pygments_lexer": "ipython3",
   "version": "3.6.4"
  }
 },
 "nbformat": 4,
 "nbformat_minor": 2
}
