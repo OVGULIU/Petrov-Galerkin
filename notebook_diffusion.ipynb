{
 "cells": [
  {
   "cell_type": "code",
   "execution_count": 1,
   "metadata": {},
   "outputs": [],
   "source": [
    "from nutils import *\n",
    "import numpy, unittest\n",
    "\n",
    "import matplotlib\n",
    "import matplotlib.pyplot as plt\n",
    "from matplotlib import collections"
   ]
  },
  {
   "cell_type": "code",
   "execution_count": 2,
   "metadata": {},
   "outputs": [],
   "source": [
    "nelems = 20\n",
    "degree = 1\n",
    "tol  = 1e-5\n",
    "ndims = 1"
   ]
  },
  {
   "cell_type": "code",
   "execution_count": 3,
   "metadata": {},
   "outputs": [],
   "source": [
    "domain, geom = mesh.rectilinear([numpy.linspace(0,1,nelems+1)]*ndims)"
   ]
  },
  {
   "cell_type": "code",
   "execution_count": 4,
   "metadata": {},
   "outputs": [],
   "source": [
    "# prepare residual\n",
    "ns = function.Namespace()\n",
    "ns.pi = numpy.pi\n",
    "ns.x = geom\n",
    "ns.basis = domain.basis('discont', degree=degree)\n",
    "ns.u = 'basis_n ?lhs_n'\n",
    "ns.C = 10\n",
    "\n",
    "ns.f = ' (2 pi)^2 sin( 2 pi x_0 )'\n",
    "ns.dg = ' 2 pi '\n",
    "ns.g = '0'\n",
    "\n",
    "# ns.f = ' (2 pi)^2 cos( 2 pi x_0 )'\n",
    "# ns.dg = ' 0 '\n",
    "# ns.g = '1'"
   ]
  },
  {
   "cell_type": "code",
   "execution_count": 5,
   "metadata": {},
   "outputs": [],
   "source": [
    "# construct residual and inertia vector\n",
    "res = domain.integral('basis_n,0 u_,0 - basis_n f' @ ns, geometry=ns.x, degree=5)\n",
    "res -= domain.interfaces.integral('-[basis_n] n_0 {u_,0} - {basis_n,0} n_0 [u]' @ ns, geometry=ns.x, degree=5)\n",
    "\n",
    "# C0 continuity residual\n",
    "res -= domain.interfaces.integral('C [basis_n] n_0 [u]' @ ns, geometry=ns.x, degree=5)\n",
    "\n",
    "# boundary\n",
    "\n",
    "# sqr = domain.boundary.integral('(u - g)^2' @ ns, geometry=ns.x, degree=degree*2)\n",
    "# cons = solver.optimize('lhs', sqr, droptol=1e-15)\n",
    "res += domain.boundary.integral('- basis_n (0.5 (dg + u_,0)) n_0' @ ns, geometry=ns.x, degree=degree*2)\n",
    "res += domain.boundary.integral(' C basis_n,0 (g - u) n_0' @ ns, geometry=ns.x, degree=degree*2)"
   ]
  },
  {
   "cell_type": "code",
   "execution_count": 6,
   "metadata": {
    "scrolled": false
   },
   "outputs": [
    {
     "name": "stdout",
     "output_type": "stream",
     "text": [
      "Here comes the Jacobian\n",
      "(40, 40)\n",
      "[[-190.    0.  -10. ...,    0.    0.    0.]\n",
      " [ 190.  -10.   30. ...,    0.    0.    0.]\n",
      " [ -10.   30.  -10. ...,    0.    0.    0.]\n",
      " ..., \n",
      " [   0.    0.    0. ...,  -10.   30.  -10.]\n",
      " [   0.    0.    0. ...,   30.  -10.  190.]\n",
      " [   0.    0.    0. ...,  -10.    0. -190.]]\n",
      "[ 3.03874722 -0.20467554 -0.40029919 -0.49216145 -0.65856886 -0.73147117\n",
      " -0.85237323 -0.89917939 -0.96274137 -0.97886967 -0.97886967 -0.96274137\n",
      " -0.89917939 -0.85237323 -0.73147117 -0.65856886 -0.49216145 -0.40029919\n",
      " -0.20467554 -0.10284544  0.10284544  0.20467554  0.40029919  0.49216145\n",
      "  0.65856886  0.73147117  0.85237323  0.89917939  0.96274137  0.97886967\n",
      "  0.97886967  0.96274137  0.89917939  0.85237323  0.73147117  0.65856886\n",
      "  0.49216145  0.40029919  0.20467554 -3.03874722]\n",
      "solve > solver returned with residual 2e-14\n"
     ]
    },
    {
     "data": {
      "text/plain": [
       "[<matplotlib.lines.Line2D at 0x7f405f131390>]"
      ]
     },
     "execution_count": 6,
     "metadata": {},
     "output_type": "execute_result"
    },
    {
     "data": {
      "image/png": "[encoded data removed]",
      "text/plain": [
       "<Figure size 432x288 with 1 Axes>"
      ]
     },
     "metadata": {},
     "output_type": "display_data"
    }
   ],
   "source": [
    "# find lhs such that res == 0 and substitute this lhs in the namespace\n",
    "# lhs = solver.solve_linear('lhs', res, constrain=cons)\n",
    "lhs = solver.solve_linear('lhs', res)\n",
    "ns = ns(lhs=lhs)\n",
    "\n",
    "# plot solution\n",
    "bezier = domain.sample('bezier', 9)\n",
    "x, u = bezier.eval([ns.x, ns.u])\n",
    "plt.plot(x, u)\n",
    "# plt.ylim(-2,2)"
   ]
  },
  {
   "cell_type": "code",
   "execution_count": null,
   "metadata": {},
   "outputs": [],
   "source": []
  },
  {
   "cell_type": "code",
   "execution_count": null,
   "metadata": {},
   "outputs": [],
   "source": []
  }
 ],
 "metadata": {
  "kernelspec": {
   "display_name": "Python 3",
   "language": "python",
   "name": "python3"
  },
  "language_info": {
   "codemirror_mode": {
    "name": "ipython",
    "version": 3
   },
   "file_extension": ".py",
   "mimetype": "text/x-python",
   "name": "python",
   "nbconvert_exporter": "python",
   "pygments_lexer": "ipython3",
   "version": "3.6.5"
  }
 },
 "nbformat": 4,
 "nbformat_minor": 2
}
