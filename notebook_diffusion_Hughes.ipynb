{
 "cells": [
  {
   "cell_type": "code",
   "execution_count": 1,
   "metadata": {},
   "outputs": [],
   "source": [
    "from nutils import *\n",
    "import numpy, unittest\n",
    "\n",
    "import matplotlib\n",
    "import matplotlib.pyplot as plt\n",
    "from matplotlib import collections"
   ]
  },
  {
   "cell_type": "code",
   "execution_count": 2,
   "metadata": {},
   "outputs": [],
   "source": [
    "nelems = 4\n",
    "degree = 1\n",
    "tol  = 1e-5\n",
    "ndims = 1\n",
    "extent = 1"
   ]
  },
  {
   "cell_type": "code",
   "execution_count": 3,
   "metadata": {},
   "outputs": [],
   "source": [
    "domain, geom = mesh.rectilinear([numpy.linspace(0,extent,nelems+1)]*ndims)"
   ]
  },
  {
   "cell_type": "code",
   "execution_count": 4,
   "metadata": {},
   "outputs": [],
   "source": [
    "# prepare residual\n",
    "ns = function.Namespace()\n",
    "ns.pi = numpy.pi\n",
    "ns.x = geom\n",
    "ns.basis = domain.basis('discont', degree=degree)\n",
    "ns.u = 'basis_n ?lhs_n'\n",
    "ns.k = 1   # diffusivity\n",
    "h = extent / nelems\n",
    "# Put element length in namespace\n",
    "ns.h = h\n",
    "\n",
    "# Tuning parameters\n",
    "ns.beta = 1\n",
    "ns.gamma = 50\n",
    "\n",
    "# Stabilization parameters (all the same for an equidistant mesh)\n",
    "ns.tauZero = ' gamma k / h'\n",
    "ns.tauN    = ' gamma k / h'\n",
    "ns.tauA    = ' gamma k / h'\n",
    "\n",
    "\n",
    "# analytical solution and forcing vector\n",
    "\n",
    "\n",
    "# BCs and analytical solution\n",
    "ns.z = 2\n",
    "ns.gl  = 'cos( z pi x_0 )'\n",
    "ns.gr  = 'cos( z pi x_0 )'\n",
    "ns.dgl = '-(z pi) sin( z pi x_0 )'\n",
    "ns.dgr = '-(z pi) sin( z pi x_0 )'\n",
    "ns.ddg = '-(z pi)^2 cos( z pi x_0 )'\n",
    "\n",
    "ns.f   = ' - ddg'"
   ]
  },
  {
   "cell_type": "code",
   "execution_count": 5,
   "metadata": {},
   "outputs": [],
   "source": [
    "# construct residual\n",
    "# Element integrals\n",
    "res = domain.integral('k basis_n,0 u_,0 - basis_n f' @ ns, geometry=ns.x, degree=degree*2)\n",
    "\n",
    "# Interface integrals\n",
    "#    part one                      |\n",
    "#                                  v  minus might be necessary here because of jump definitions (likewise on second +)\n",
    "res += domain.interfaces.integral(' [basis_n] n_0 k {u_,0} + beta k {basis_n,0} [u] n_0' @ ns, geometry=ns.x, degree=degree*2)\n",
    "#    part two (stabilized)\n",
    "res += domain.interfaces.integral(' tauA [basis_n] n_0 [u] n_0' @ ns, geometry=ns.x, degree=degree*2)\n",
    "\n",
    "# Boundary integrals LHS\n",
    "#    part one\n",
    "res += domain.boundary.integral('- k basis_n u_,0 + beta k basis_n,0 u ' @ ns, geometry=ns.x, degree=degree*2)\n",
    "#    part two (stabilized)\n",
    "res += domain.boundary['left'].integral(' tauZero basis_n u ' @ ns, geometry=ns.x, degree=degree*2)\n",
    "res += domain.boundary['right'].integral(' tauN basis_n u ' @ ns, geometry=ns.x, degree=degree*2)\n",
    "\n",
    "# Boundary integrals RHS (weakly imposed boundary conditions) (including stabilization)\n",
    "res -= domain.boundary['left'].integral(' ( beta k basis_n,0 + tauZero basis_n) gl ' @ ns, geometry=ns.x, degree=degree*2)\n",
    "res -= domain.boundary['right'].integral(' ( beta k basis_n,0 + tauN basis_n) gr ' @ ns, geometry=ns.x, degree=degree*2)"
   ]
  },
  {
   "cell_type": "code",
   "execution_count": 6,
   "metadata": {
    "scrolled": true
   },
   "outputs": [
    {
     "name": "stdout",
     "output_type": "stream",
     "text": [
      "Here comes the Jacobian\n",
      "(8, 8)\n",
      "[[  2.04000000e+02  -6.00000000e+00  -2.00000000e+00   0.00000000e+00\n",
      "    0.00000000e+00   0.00000000e+00   0.00000000e+00   0.00000000e+00]\n",
      " [  2.00000000e+00   2.00000000e+02  -1.96000000e+02  -2.00000000e+00\n",
      "    0.00000000e+00   0.00000000e+00   0.00000000e+00   0.00000000e+00]\n",
      " [ -2.00000000e+00  -1.96000000e+02   2.00000000e+02   8.88178420e-16\n",
      "   -2.00000000e+00   0.00000000e+00   0.00000000e+00   0.00000000e+00]\n",
      " [  0.00000000e+00  -2.00000000e+00   8.88178420e-16   2.00000000e+02\n",
      "   -1.96000000e+02  -2.00000000e+00   0.00000000e+00   0.00000000e+00]\n",
      " [  0.00000000e+00   0.00000000e+00  -2.00000000e+00  -1.96000000e+02\n",
      "    2.00000000e+02   8.88178420e-16  -2.00000000e+00   0.00000000e+00]\n",
      " [  0.00000000e+00   0.00000000e+00   0.00000000e+00  -2.00000000e+00\n",
      "    8.88178420e-16   2.00000000e+02  -1.96000000e+02  -2.00000000e+00]\n",
      " [  0.00000000e+00   0.00000000e+00   0.00000000e+00   0.00000000e+00\n",
      "   -2.00000000e+00  -1.96000000e+02   2.00000000e+02  -6.00000000e+00]\n",
      " [  0.00000000e+00   0.00000000e+00   0.00000000e+00   0.00000000e+00\n",
      "    0.00000000e+00  -2.00000000e+00   2.00000000e+00   2.04000000e+02]]\n",
      "[-200.01933948   -6.25424898    2.25424898    4.01933948    4.01933948\n",
      "    2.25424898    1.74575102 -208.01933948]\n",
      "solve > solver returned with residual 4e-14\n"
     ]
    }
   ],
   "source": [
    "# find lhs such that res == 0 and substitute this lhs in the namespace\n",
    "# lhs = solver.solve_linear('lhs', res, constrain=cons)\n",
    "lhs = solver.solve_linear('lhs', res)\n",
    "ns = ns(lhs=lhs)"
   ]
  },
  {
   "cell_type": "code",
   "execution_count": 7,
   "metadata": {},
   "outputs": [
    {
     "data": {
      "text/plain": [
       "[<matplotlib.lines.Line2D at 0x7f5751deba20>]"
      ]
     },
     "execution_count": 7,
     "metadata": {},
     "output_type": "execute_result"
    },
    {
     "data": {
      "image/png": "[encoded data removed]",
      "text/plain": [
       "<Figure size 432x288 with 1 Axes>"
      ]
     },
     "metadata": {},
     "output_type": "display_data"
    }
   ],
   "source": [
    "# plot solution\n",
    "plt.figure()\n",
    "bezier = domain.sample('bezier', 9)\n",
    "x, u = bezier.eval([ns.x, ns.u])\n",
    "x, gl = bezier.eval([ns.x, ns.gl])\n",
    "plt.plot(x, u)\n",
    "plt.plot(x, gl, 'r')\n",
    "# plt.ylim(-2,2)"
   ]
  },
  {
   "cell_type": "code",
   "execution_count": null,
   "metadata": {},
   "outputs": [],
   "source": []
  },
  {
   "cell_type": "code",
   "execution_count": null,
   "metadata": {},
   "outputs": [],
   "source": []
  },
  {
   "cell_type": "code",
   "execution_count": null,
   "metadata": {},
   "outputs": [],
   "source": []
  },
  {
   "cell_type": "code",
   "execution_count": null,
   "metadata": {},
   "outputs": [],
   "source": []
  }
 ],
 "metadata": {
  "kernelspec": {
   "display_name": "Python 3",
   "language": "python",
   "name": "python3"
  },
  "language_info": {
   "codemirror_mode": {
    "name": "ipython",
    "version": 3
   },
   "file_extension": ".py",
   "mimetype": "text/x-python",
   "name": "python",
   "nbconvert_exporter": "python",
   "pygments_lexer": "ipython3",
   "version": "3.6.5"
  }
 },
 "nbformat": 4,
 "nbformat_minor": 2
}
