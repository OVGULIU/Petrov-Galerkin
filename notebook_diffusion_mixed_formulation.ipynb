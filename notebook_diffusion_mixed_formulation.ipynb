{
 "cells": [
  {
   "cell_type": "code",
   "execution_count": 70,
   "metadata": {},
   "outputs": [],
   "source": [
    "from nutils import *\n",
    "import numpy, unittest\n",
    "\n",
    "import matplotlib\n",
    "import matplotlib.pyplot as plt\n",
    "from matplotlib import collections"
   ]
  },
  {
   "cell_type": "code",
   "execution_count": 71,
   "metadata": {},
   "outputs": [],
   "source": [
    "nelems = 4\n",
    "degree = 2\n",
    "tol  = 1e-5\n",
    "ndims = 1"
   ]
  },
  {
   "cell_type": "code",
   "execution_count": 72,
   "metadata": {},
   "outputs": [],
   "source": [
    "domain, geom = mesh.rectilinear([numpy.linspace(0,1,nelems+1)]*ndims)"
   ]
  },
  {
   "cell_type": "code",
   "execution_count": 73,
   "metadata": {},
   "outputs": [],
   "source": [
    "# prepare residual\n",
    "ns = function.Namespace()\n",
    "ns.pi = numpy.pi\n",
    "ns.x = geom\n",
    "\n",
    "# construct bases\n",
    "ns.alpha, ns.beta = function.chain([\n",
    "    domain.basis( 'std', degree=degree+1),\n",
    "    domain.basis( 'discont', degree=degree),\n",
    "])\n",
    "\n",
    "# solution variables\n",
    "ns.phi = 'alpha_n ?lhs_n'\n",
    "ns.u   = 'beta_n ?lhs_n'\n",
    "\n",
    "# analytical solution\n",
    "ns.g  = 'cos( 2 pi x_0 )'\n",
    "ns.dg = '-(2 pi) sin( 2 pi x_0 )'\n",
    "ns.f  = '(2 pi)^2 cos( 2 pi x_0 )'"
   ]
  },
  {
   "cell_type": "code",
   "execution_count": 74,
   "metadata": {},
   "outputs": [],
   "source": [
    "# construct residual and inertia vector\n",
    "res = domain.integral('- alpha_m,0 u + alpha_m phi' @ ns, geometry=ns.x, degree=degree*2)\n",
    "\n",
    "# construct residual and inertia vector\n",
    "res += domain.integral('- beta_n phi_,0 + beta_n f' @ ns, geometry=ns.x, degree=degree*2)\n",
    "\n",
    "# boundary integral\n",
    "res += domain.boundary.integral('alpha_m g n_0' @ ns, geometry=ns.x, degree=degree*2)"
   ]
  },
  {
   "cell_type": "code",
   "execution_count": 75,
   "metadata": {
    "scrolled": false
   },
   "outputs": [
    {
     "name": "stdout",
     "output_type": "stream",
     "text": [
      "solve > solver returned with residual 1e-15\n"
     ]
    },
    {
     "data": {
      "text/plain": [
       "[<matplotlib.lines.Line2D at 0x1517795dd8>]"
      ]
     },
     "execution_count": 75,
     "metadata": {},
     "output_type": "execute_result"
    },
    {
     "data": {
      "image/png": "[encoded data removed]",
      "text/plain": [
       "<matplotlib.figure.Figure at 0x15177442b0>"
      ]
     },
     "metadata": {},
     "output_type": "display_data"
    }
   ],
   "source": [
    "# find lhs such that res == 0 and substitute this lhs in the namespace\n",
    "lhs = solver.solve_linear('lhs', res)\n",
    "ns = ns(lhs=lhs)\n",
    "\n",
    "# plot solution\n",
    "bezier = domain.sample('bezier', 9)\n",
    "x, u = bezier.eval([ns.x, ns.u])\n",
    "x, g = bezier.eval([ns.x, ns.g])\n",
    "plt.plot(x, u)\n",
    "plt.plot(x, g)\n",
    "# plt.ylim(-2,2)"
   ]
  }
 ],
 "metadata": {
  "kernelspec": {
   "display_name": "Python 3",
   "language": "python",
   "name": "python3"
  },
  "language_info": {
   "codemirror_mode": {
    "name": "ipython",
    "version": 3
   },
   "file_extension": ".py",
   "mimetype": "text/x-python",
   "name": "python",
   "nbconvert_exporter": "python",
   "pygments_lexer": "ipython3",
   "version": "3.6.5"
  }
 },
 "nbformat": 4,
 "nbformat_minor": 2
}
